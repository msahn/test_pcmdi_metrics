{
 "cells": [
  {
   "cell_type": "markdown",
   "metadata": {
    "cell_style": "center"
   },
   "source": [
    "# Read, Regrid, Write (nc file)"
   ]
  },
  {
   "cell_type": "code",
   "execution_count": 1,
   "metadata": {
    "scrolled": true
   },
   "outputs": [
    {
     "name": "stdout",
     "output_type": "stream",
     "text": [
      "Grid has Python id 0x7f6e281a1f70.\n",
      "Gridtype: generic\n",
      "Grid shape: (400, 1440)\n",
      "Order: yx\n",
      "Grid has Python id 0x7f6e2813d550.\n",
      "Gridtype: generic\n",
      "Grid shape: (72, 144)\n",
      "Order: yx\n"
     ]
    },
    {
     "name": "stderr",
     "output_type": "stream",
     "text": [
      "/export/ahn6/anaconda3/envs/pmp_v20200601/lib/python3.8/site-packages/regrid2/horizontal.py:372: Warning: While this will work for now, please note that the Regridder class has been renamed Horizontal, the name 'Regridder' will be deprecated in future version. Please edit your code accordingly\n",
      "  warnings.warn(\n",
      "/export/ahn6/anaconda3/envs/pmp_v20200601/lib/python3.8/site-packages/cdms2/dataset.py:2164: Warning: Files are written with compression and no shuffling\n",
      "You can query different values of compression using the functions:\n",
      "cdms2.getNetcdfShuffleFlag() returning 1 if shuffling is enabled, 0 otherwise\n",
      "cdms2.getNetcdfDeflateFlag() returning 1 if deflate is used, 0 otherwise\n",
      "cdms2.getNetcdfDeflateLevelFlag() returning the level of compression for the deflate method\n",
      "\n",
      "If you want to turn that off or set different values of compression use the functions:\n",
      "value = 0\n",
      "cdms2.setNetcdfShuffleFlag(value) ## where value is either 0 or 1\n",
      "cdms2.setNetcdfDeflateFlag(value) ## where value is either 0 or 1\n",
      "cdms2.setNetcdfDeflateLevelFlag(value) ## where value is a integer between 0 and 9 included\n",
      "\n",
      "To produce NetCDF3 Classic files use:\n",
      "cdms2.useNetCDF3()\n",
      "To Force NetCDF4 output with classic format and no compressing use:\n",
      "cdms2.setNetcdf4Flag(1)\n",
      "NetCDF4 file with no shuffling or deflate and noclassic will be open for parallel i/o\n",
      "  warnings.warn(\"Files are written with compression and no shuffling\\n\" +\n"
     ]
    }
   ],
   "source": [
    "import cdms2 as cdms\n",
    "from regrid2 import Regridder\n",
    "\n",
    "# Regrid data\n",
    "var = 'pr'\n",
    "data = 'TRMM-3B43v-7'\n",
    "period = '199801-201712'\n",
    "ver = 'v20200421'\n",
    "dir = '/p/user_pub/PCMDIobs/PCMDIobs2_clims/atmos/'+var+'/'+data+'/'\n",
    "nc = var+'_mon_'+data+'_BE_gn_'+period+'.'+ver+'.AC.nc'\n",
    "f = cdms.open(dir+nc)\n",
    "d = f[var]\n",
    "ogrid = d.getGrid()\n",
    "print(ogrid)\n",
    "\n",
    "# Target grid data\n",
    "dir = '/p/user_pub/PCMDIobs/PCMDIobs2_clims/atmos/pr/GPCP-2-3/'\n",
    "nc = 'pr_mon_GPCP-2-3_BE_gn_197901-201907.v20200421.AC.nc'\n",
    "ft = cdms.open(dir+nc)\n",
    "dt = ft['pr']\n",
    "tgrid = dt.getGrid()\n",
    "print(tgrid)\n",
    "\n",
    "# Regridding\n",
    "regridFunc = Regridder(ogrid, tgrid)\n",
    "dr = regridFunc(d)\n",
    "\n",
    "# Write data\n",
    "out = cdms.open(var+'_mon_'+data+'_BE_gn_'+period +\n",
    "                '.'+ver+'.AC_regrid.144x72.nc', 'w')\n",
    "out.write(dr)\n",
    "out.close()"
   ]
  },
  {
   "cell_type": "code",
   "execution_count": 2,
   "metadata": {},
   "outputs": [
    {
     "name": "stdout",
     "output_type": "stream",
     "text": [
      "[NbConvertApp] Converting notebook regridding.ipynb to script\n",
      "[NbConvertApp] Writing 913 bytes to regridding.py\n"
     ]
    }
   ],
   "source": [
    "!jupyter nbconvert --to script regridding.ipynb"
   ]
  }
 ],
 "metadata": {
  "kernelspec": {
   "display_name": "Python [conda env:pmp_v20200601] *",
   "language": "python",
   "name": "conda-env-pmp_v20200601-py"
  },
  "language_info": {
   "codemirror_mode": {
    "name": "ipython",
    "version": 3
   },
   "file_extension": ".py",
   "mimetype": "text/x-python",
   "name": "python",
   "nbconvert_exporter": "python",
   "pygments_lexer": "ipython3",
   "version": "3.8.3"
  },
  "toc": {
   "base_numbering": 1,
   "nav_menu": {},
   "number_sections": true,
   "sideBar": true,
   "skip_h1_title": false,
   "title_cell": "Table of Contents",
   "title_sidebar": "Contents",
   "toc_cell": false,
   "toc_position": {},
   "toc_section_display": true,
   "toc_window_display": false
  },
  "varInspector": {
   "cols": {
    "lenName": 16,
    "lenType": 16,
    "lenVar": 40
   },
   "kernels_config": {
    "python": {
     "delete_cmd_postfix": "",
     "delete_cmd_prefix": "del ",
     "library": "var_list.py",
     "varRefreshCmd": "print(var_dic_list())"
    },
    "r": {
     "delete_cmd_postfix": ") ",
     "delete_cmd_prefix": "rm(",
     "library": "var_list.r",
     "varRefreshCmd": "cat(var_dic_list()) "
    }
   },
   "oldHeight": 122,
   "position": {
    "height": "380px",
    "left": "648px",
    "right": "20px",
    "top": "129px",
    "width": "715px"
   },
   "types_to_exclude": [
    "module",
    "function",
    "builtin_function_or_method",
    "instance",
    "_Feature"
   ],
   "varInspector_section_display": "block",
   "window_display": false
  }
 },
 "nbformat": 4,
 "nbformat_minor": 4
}
